{
  "nbformat": 4,
  "nbformat_minor": 0,
  "metadata": {
    "colab": {
      "provenance": [],
      "collapsed_sections": [
        "1LNCki0RrE33",
        "hpbsRESYpeOb",
        "ssJ5kq_Pq3Lo",
        "igOi-XxrrX_w",
        "0rkXeO3drqUE"
      ]
    },
    "kernelspec": {
      "name": "python3",
      "display_name": "Python 3"
    },
    "language_info": {
      "name": "python"
    }
  },
  "cells": [
    {
      "cell_type": "markdown",
      "source": [
        "# **LAB4_SparkSQL**"
      ],
      "metadata": {
        "id": "1H9DQUVwtDf7"
      }
    },
    {
      "cell_type": "markdown",
      "source": [
        "## **1. Show ID, title, and genres of all movies with ‘Action’ included in their genres**"
      ],
      "metadata": {
        "id": "3ADzla6vg2NO"
      }
    },
    {
      "cell_type": "code",
      "source": [
        "import findspark\n",
        "findspark.init()\n",
        "\n",
        "from pyspark.sql import SparkSession\n",
        "from pyspark.sql import functions as f\n",
        "\n",
        "spark = SparkSession.builder.appName(\"MovieApp\").getOrCreate()\n",
        "\n",
        "movies = spark.read.csv('movies_small.csv', header=True, inferSchema=True)\n",
        "\n",
        "movies_with_action = movies.filter(\n",
        "    f.array_contains(f.split(f.col('genres'), '\\|'), 'Action')\n",
        "  )\n",
        "\n",
        "result1 = movies_with_action.select('movieId', 'title', 'genres')\n",
        "result1.show(truncate=False)\n",
        "\n",
        "spark.stop()"
      ],
      "metadata": {
        "colab": {
          "base_uri": "https://localhost:8080/"
        },
        "id": "K_9XDxehcswh",
        "outputId": "754c299d-fcd2-4bc0-d424-f583f18fa917"
      },
      "execution_count": 87,
      "outputs": [
        {
          "output_type": "stream",
          "name": "stdout",
          "text": [
            "+-------+------------------------------------------+----------------------------------+\n",
            "|movieId|title                                     |genres                            |\n",
            "+-------+------------------------------------------+----------------------------------+\n",
            "|6      |Heat (1995)                               |Action|Crime|Thriller             |\n",
            "|9      |Sudden Death (1995)                       |Action                            |\n",
            "|10     |GoldenEye (1995)                          |Action|Adventure|Thriller         |\n",
            "|15     |Cutthroat Island (1995)                   |Action|Adventure|Romance          |\n",
            "|20     |Money Train (1995)                        |Action|Comedy|Crime|Drama|Thriller|\n",
            "|23     |Assassins (1995)                          |Action|Crime|Thriller             |\n",
            "|42     |Dead Presidents (1995)                    |Action|Crime|Drama                |\n",
            "|44     |Mortal Kombat (1995)                      |Action|Adventure|Fantasy          |\n",
            "|66     |Lawnmower Man 2: Beyond Cyberspace (1996) |Action|Sci-Fi|Thriller            |\n",
            "|70     |From Dusk Till Dawn (1996)                |Action|Comedy|Horror|Thriller     |\n",
            "|71     |Fair Game (1995)                          |Action                            |\n",
            "|76     |Screamers (1995)                          |Action|Sci-Fi|Thriller            |\n",
            "|78     |Crossing Guard, The (1995)                |Action|Crime|Drama|Thriller       |\n",
            "|86     |White Squall (1996)                       |Action|Adventure|Drama            |\n",
            "|89     |Nick of Time (1995)                       |Action|Thriller                   |\n",
            "|95     |Broken Arrow (1996)                       |Action|Adventure|Thriller         |\n",
            "|110    |Braveheart (1995)                         |Action|Drama|War                  |\n",
            "|112    |Rumble in the Bronx (Hont faan kui) (1995)|Action|Adventure|Comedy|Crime     |\n",
            "|145    |Bad Boys (1995)                           |Action|Comedy|Crime|Drama|Thriller|\n",
            "|151    |Rob Roy (1995)                            |Action|Drama|Romance|War          |\n",
            "+-------+------------------------------------------+----------------------------------+\n",
            "only showing top 20 rows\n",
            "\n"
          ]
        }
      ]
    },
    {
      "cell_type": "markdown",
      "source": [
        "## **2. Show ID, title, and the number of genres of each movie, sorted by movieId**"
      ],
      "metadata": {
        "id": "a-bOAqY4g-iz"
      }
    },
    {
      "cell_type": "code",
      "source": [
        "import findspark\n",
        "findspark.init()\n",
        "\n",
        "from pyspark.sql import SparkSession\n",
        "from pyspark.sql import functions as f\n",
        "\n",
        "spark = SparkSession.builder.appName(\"MovieApp\").getOrCreate()\n",
        "\n",
        "movies = spark.read.csv('movies_small.csv', header=True, inferSchema=True)\n",
        "\n",
        "movies_with_action = movies.filter(\n",
        "    f.array_contains(f.split(f.col('genres'), '\\|'), 'Action')\n",
        ")\n",
        "\n",
        "result2 = movies.withColumn('count', f.size(f.split(f.col('genres'), '\\|'))) \\\n",
        "                .select('movieId', 'title', 'count') \\\n",
        "                .orderBy('movieId')\n",
        "\n",
        "result2.show(truncate=False)"
      ],
      "metadata": {
        "colab": {
          "base_uri": "https://localhost:8080/"
        },
        "id": "wOhgI7Fddfo7",
        "outputId": "bd43526d-cfb0-4b8d-c3ed-6e90ea957b02"
      },
      "execution_count": 83,
      "outputs": [
        {
          "output_type": "stream",
          "name": "stdout",
          "text": [
            "+-------+-------------------------------------+-----+\n",
            "|movieId|title                                |count|\n",
            "+-------+-------------------------------------+-----+\n",
            "|1      |Toy Story (1995)                     |5    |\n",
            "|2      |Jumanji (1995)                       |3    |\n",
            "|3      |Grumpier Old Men (1995)              |2    |\n",
            "|4      |Waiting to Exhale (1995)             |3    |\n",
            "|5      |Father of the Bride Part II (1995)   |1    |\n",
            "|6      |Heat (1995)                          |3    |\n",
            "|7      |Sabrina (1995)                       |2    |\n",
            "|8      |Tom and Huck (1995)                  |2    |\n",
            "|9      |Sudden Death (1995)                  |1    |\n",
            "|10     |GoldenEye (1995)                     |3    |\n",
            "|11     |American President, The (1995)       |3    |\n",
            "|12     |Dracula: Dead and Loving It (1995)   |2    |\n",
            "|13     |Balto (1995)                         |3    |\n",
            "|14     |Nixon (1995)                         |1    |\n",
            "|15     |Cutthroat Island (1995)              |3    |\n",
            "|16     |Casino (1995)                        |2    |\n",
            "|17     |Sense and Sensibility (1995)         |2    |\n",
            "|18     |Four Rooms (1995)                    |1    |\n",
            "|19     |Ace Ventura: When Nature Calls (1995)|1    |\n",
            "|20     |Money Train (1995)                   |5    |\n",
            "+-------+-------------------------------------+-----+\n",
            "only showing top 20 rows\n",
            "\n"
          ]
        }
      ]
    },
    {
      "cell_type": "markdown",
      "source": [
        "## **3. Show the number of movies of each genre, sorted by the count number**"
      ],
      "metadata": {
        "id": "EZ8gFjCOhCAJ"
      }
    },
    {
      "cell_type": "code",
      "source": [
        "result3 = movies.withColumn('genre', f.explode(f.split(f.col('genres'), '\\|'))) \\\n",
        "                .groupBy('genre') \\\n",
        "                .agg(f.count('movieId').alias('num_movies')) \\\n",
        "                .orderBy(f.asc('num_movies'))\n",
        "\n",
        "result3.show(truncate=False)"
      ],
      "metadata": {
        "colab": {
          "base_uri": "https://localhost:8080/"
        },
        "id": "FpAVxlw8eXW1",
        "outputId": "239447b6-5ee4-40d7-c0fc-063a6a41119f"
      },
      "execution_count": 84,
      "outputs": [
        {
          "output_type": "stream",
          "name": "stdout",
          "text": [
            "+------------------+----------+\n",
            "|genre             |num_movies|\n",
            "+------------------+----------+\n",
            "|(no genres listed)|34        |\n",
            "|Film-Noir         |87        |\n",
            "|IMAX              |158       |\n",
            "|Western           |167       |\n",
            "|Musical           |334       |\n",
            "|War               |382       |\n",
            "|Documentary       |440       |\n",
            "|Mystery           |573       |\n",
            "|Animation         |611       |\n",
            "|Children          |664       |\n",
            "|Fantasy           |779       |\n",
            "|Horror            |978       |\n",
            "|Sci-Fi            |980       |\n",
            "|Crime             |1199      |\n",
            "|Adventure         |1263      |\n",
            "|Romance           |1596      |\n",
            "|Action            |1828      |\n",
            "|Thriller          |1894      |\n",
            "|Comedy            |3756      |\n",
            "|Drama             |4361      |\n",
            "+------------------+----------+\n",
            "\n"
          ]
        }
      ]
    },
    {
      "cell_type": "markdown",
      "source": [
        "## **4. Show the list of all movies associated with each genres**"
      ],
      "metadata": {
        "id": "EguSkY_LhFfv"
      }
    },
    {
      "cell_type": "code",
      "source": [
        "result4 = movies.withColumn('genre', f.explode(f.split(f.col('genres'), '\\|'))) \\\n",
        "                .groupBy('genre') \\\n",
        "                .agg(f.collect_list('title').alias('movies_list')) \\\n",
        "                .show(truncate=100)"
      ],
      "metadata": {
        "colab": {
          "base_uri": "https://localhost:8080/"
        },
        "id": "LVLVXrqqelXl",
        "outputId": "198f5328-7388-469e-e78b-7069956416c9"
      },
      "execution_count": 85,
      "outputs": [
        {
          "output_type": "stream",
          "name": "stdout",
          "text": [
            "+------------------+----------------------------------------------------------------------------------------------------+\n",
            "|             genre|                                                                                         movies_list|\n",
            "+------------------+----------------------------------------------------------------------------------------------------+\n",
            "|             Crime|[Heat (1995), Casino (1995), Money Train (1995), Get Shorty (1995), Copycat (1995), Assassins (19...|\n",
            "|           Romance|[Grumpier Old Men (1995), Waiting to Exhale (1995), Sabrina (1995), American President, The (1995...|\n",
            "|          Thriller|[Heat (1995), GoldenEye (1995), Money Train (1995), Get Shorty (1995), Copycat (1995), Assassins ...|\n",
            "|         Adventure|[Toy Story (1995), Jumanji (1995), Tom and Huck (1995), GoldenEye (1995), Balto (1995), Cutthroat...|\n",
            "|             Drama|[Waiting to Exhale (1995), American President, The (1995), Nixon (1995), Casino (1995), Sense and...|\n",
            "|               War|[Richard III (1995), Misérables, Les (1995), Braveheart (1995), Rob Roy (1995), Beyond Rangoon (1...|\n",
            "|       Documentary|[Nico Icon (1995), Heidi Fleiss: Hollywood Madam (1995), Catwalk (1996), Anne Frank Remembered (1...|\n",
            "|           Fantasy|[Toy Story (1995), Jumanji (1995), City of Lost Children, The (Cité des enfants perdus, La) (1995...|\n",
            "|           Mystery|[Copycat (1995), City of Lost Children, The (Cité des enfants perdus, La) (1995), Twelve Monkeys ...|\n",
            "|           Musical|[Pocahontas (1995), Muppet Treasure Island (1996), Umbrellas of Cherbourg, The (Parapluies de Che...|\n",
            "|         Animation|[Toy Story (1995), Balto (1995), Pocahontas (1995), Goofy Movie, A (1995), Swan Princess, The (19...|\n",
            "|         Film-Noir|[Devil in a Blue Dress (1995), Suture (1993), Bitter Moon (1992), Maltese Falcon, The (1941), Sun...|\n",
            "|(no genres listed)|[La cravate (1957), Ben-hur (2016), Pirates of the Caribbean: Dead Men Tell No Tales (2017), Supe...|\n",
            "|              IMAX|[Apollo 13 (1995), Lion King, The (1994), Beauty and the Beast (1991), Everest (1998), Fantasia 2...|\n",
            "|            Horror|[Dracula: Dead and Loving It (1995), Copycat (1995), From Dusk Till Dawn (1996), Mary Reilly (199...|\n",
            "|           Western|[Desperado (1995), Wild Bill (1995), Legends of the Fall (1994), Quick and the Dead, The (1995), ...|\n",
            "|            Comedy|[Toy Story (1995), Grumpier Old Men (1995), Waiting to Exhale (1995), Father of the Bride Part II...|\n",
            "|          Children|[Toy Story (1995), Jumanji (1995), Tom and Huck (1995), Balto (1995), Now and Then (1995), Babe (...|\n",
            "|            Action|[Heat (1995), Sudden Death (1995), GoldenEye (1995), Cutthroat Island (1995), Money Train (1995),...|\n",
            "|            Sci-Fi|[Powder (1995), City of Lost Children, The (Cité des enfants perdus, La) (1995), Twelve Monkeys (...|\n",
            "+------------------+----------------------------------------------------------------------------------------------------+\n",
            "\n"
          ]
        }
      ]
    },
    {
      "cell_type": "markdown",
      "source": [
        "## **5. Show the years of the first_appearance of ‘Animation’ and ‘Sci-Fi’ movies**"
      ],
      "metadata": {
        "id": "tq1Pu1HLhIUL"
      }
    },
    {
      "cell_type": "code",
      "source": [
        "movies = spark.read.csv('movies_small.csv', header=True, inferSchema=True)\n",
        "\n",
        "movies_with_year = movies.withColumn('year', f.regexp_extract(f.col('title'), r'\\((\\d{4})\\)', 1))\n",
        "\n",
        "movies_exploded = movies_with_year.withColumn('genre', f.explode(f.split(f.col('genres'), '\\|')))\n",
        "\n",
        "animation_sci_fi_movies = movies_exploded.filter(f.col('genre').isin('Animation', 'Sci-Fi'))\n",
        "\n",
        "result = animation_sci_fi_movies.groupBy('genre') \\\n",
        "                                .agg(f.min('year').alias('first_appearance'))\n",
        "\n",
        "result.show(truncate=False)\n",
        "\n",
        "spark.stop()"
      ],
      "metadata": {
        "colab": {
          "base_uri": "https://localhost:8080/"
        },
        "id": "pKI0bS5BljOQ",
        "outputId": "2180ccd5-6322-43a2-8ad2-81d3b95c98f1"
      },
      "execution_count": 86,
      "outputs": [
        {
          "output_type": "stream",
          "name": "stdout",
          "text": [
            "+---------+----------------+\n",
            "|genre    |first_appearance|\n",
            "+---------+----------------+\n",
            "|Animation|1908            |\n",
            "|Sci-Fi   |                |\n",
            "+---------+----------------+\n",
            "\n"
          ]
        }
      ]
    },
    {
      "cell_type": "markdown",
      "source": [
        "# **Bonus**"
      ],
      "metadata": {
        "id": "wDTOPvW2ooZt"
      }
    },
    {
      "cell_type": "markdown",
      "source": [
        "## Load file into Pyspark DF"
      ],
      "metadata": {
        "id": "1LNCki0RrE33"
      }
    },
    {
      "cell_type": "code",
      "source": [
        "import findspark\n",
        "findspark.init()\n",
        "\n",
        "from pyspark.sql import SparkSession\n",
        "from pyspark.sql import functions as f\n",
        "\n",
        "spark = SparkSession.builder.appName(\"CustomerGameApp\").getOrCreate()\n",
        "\n",
        "customers = spark.read.csv('cust.txt', header=False, inferSchema=True)\n",
        "customers = customers.withColumnRenamed('_c0', 'customer_id') \\\n",
        "                     .withColumnRenamed('_c1', 'first_name') \\\n",
        "                     .withColumnRenamed('_c2', 'last_name') \\\n",
        "                     .withColumnRenamed('_c3', 'age') \\\n",
        "                     .withColumnRenamed('_c4', 'occupation')\n",
        "\n",
        "transactions = spark.read.csv('trans.txt', header=False, inferSchema=True)\n",
        "transactions = transactions.withColumnRenamed('_c0', 'transaction_id') \\\n",
        "                           .withColumnRenamed('_c1', 'date') \\\n",
        "                           .withColumnRenamed('_c2', 'customer_id') \\\n",
        "                           .withColumnRenamed('_c3', 'amount') \\\n",
        "                           .withColumnRenamed('_c4', 'game_type') \\\n",
        "                           .withColumnRenamed('_c5', 'category') \\\n",
        "                           .withColumnRenamed('_c6', 'product') \\\n",
        "                           .withColumnRenamed('_c7', 'city') \\\n",
        "                           .withColumnRenamed('_c8', 'state') \\\n",
        "                           .withColumnRenamed('_c9', 'payment_method')"
      ],
      "metadata": {
        "id": "Z1DtwV-LpH1b"
      },
      "execution_count": 110,
      "outputs": []
    },
    {
      "cell_type": "markdown",
      "source": [
        "## 1. Show IDs and All Game Types Played by Customers Who Play \"Water Sports\""
      ],
      "metadata": {
        "id": "hpbsRESYpeOb"
      }
    },
    {
      "cell_type": "code",
      "source": [
        "trans_with_customer = transactions.join(customers, on='customer_id')\n",
        "\n",
        "water_sports_players = trans_with_customer.filter(f.col('game_type') == 'Water Sports') \\\n",
        "                                          .groupBy('customer_id').agg(f.collect_set('game_type').alias('game_types'))\n",
        "\n",
        "water_sports_players.show(truncate=False)\n"
      ],
      "metadata": {
        "colab": {
          "base_uri": "https://localhost:8080/"
        },
        "id": "L0niZ0LTpcHr",
        "outputId": "f39e0153-5683-450c-c74f-c17625ce8b5d"
      },
      "execution_count": 111,
      "outputs": [
        {
          "output_type": "stream",
          "name": "stdout",
          "text": [
            "+-----------+--------------+\n",
            "|customer_id|game_types    |\n",
            "+-----------+--------------+\n",
            "|4000009    |[Water Sports]|\n",
            "|4000001    |[Water Sports]|\n",
            "|4000006    |[Water Sports]|\n",
            "|4000008    |[Water Sports]|\n",
            "|4000004    |[Water Sports]|\n",
            "|4000003    |[Water Sports]|\n",
            "|4000002    |[Water Sports]|\n",
            "+-----------+--------------+\n",
            "\n"
          ]
        }
      ]
    },
    {
      "cell_type": "markdown",
      "source": [
        "## 2. Show IDs and Number of Transactions of Each Customer"
      ],
      "metadata": {
        "id": "ssJ5kq_Pq3Lo"
      }
    },
    {
      "cell_type": "code",
      "source": [
        "transaction_count = transactions.groupBy('customer_id').agg(f.count('game_type').alias('num_transactions'))\n",
        "\n",
        "transaction_count.show(truncate=False)"
      ],
      "metadata": {
        "colab": {
          "base_uri": "https://localhost:8080/"
        },
        "id": "vhNK7XbLrUTK",
        "outputId": "7c7acea4-c9b0-459a-f89f-b7039849816d"
      },
      "execution_count": 112,
      "outputs": [
        {
          "output_type": "stream",
          "name": "stdout",
          "text": [
            "+-----------+----------------+\n",
            "|customer_id|num_transactions|\n",
            "+-----------+----------------+\n",
            "|4000009    |6               |\n",
            "|4000001    |8               |\n",
            "|4000006    |5               |\n",
            "|4000005    |5               |\n",
            "|4000008    |10              |\n",
            "|4000004    |5               |\n",
            "|4000003    |3               |\n",
            "|4000010    |6               |\n",
            "|4000007    |6               |\n",
            "|4000002    |6               |\n",
            "+-----------+----------------+\n",
            "\n"
          ]
        }
      ]
    },
    {
      "cell_type": "markdown",
      "source": [
        "## 3. Show IDs and Number of Transactions of Each Customer, Sorted by Customer ID"
      ],
      "metadata": {
        "id": "igOi-XxrrX_w"
      }
    },
    {
      "cell_type": "code",
      "source": [
        "transaction_count_sorted = transaction_count.orderBy('customer_id')\n",
        "\n",
        "transaction_count_sorted.show(truncate=False)"
      ],
      "metadata": {
        "colab": {
          "base_uri": "https://localhost:8080/"
        },
        "id": "Fz9GHN_2rbm5",
        "outputId": "d6cc43fa-911c-42f2-84f5-75067a84c859"
      },
      "execution_count": 113,
      "outputs": [
        {
          "output_type": "stream",
          "name": "stdout",
          "text": [
            "+-----------+----------------+\n",
            "|customer_id|num_transactions|\n",
            "+-----------+----------------+\n",
            "|4000001    |8               |\n",
            "|4000002    |6               |\n",
            "|4000003    |3               |\n",
            "|4000004    |5               |\n",
            "|4000005    |5               |\n",
            "|4000006    |5               |\n",
            "|4000007    |6               |\n",
            "|4000008    |10              |\n",
            "|4000009    |6               |\n",
            "|4000010    |6               |\n",
            "+-----------+----------------+\n",
            "\n"
          ]
        }
      ]
    },
    {
      "cell_type": "markdown",
      "source": [
        "## 4. Show IDs and Total Cost of Transactions of Each Customer, Sorted by Total Cost"
      ],
      "metadata": {
        "id": "0rkXeO3drqUE"
      }
    },
    {
      "cell_type": "code",
      "source": [
        "total_cost_per_customer = transactions.groupBy('customer_id').agg(f.sum('amount').alias('total_cost'))\n",
        "\n",
        "total_cost_sorted = total_cost_per_customer.orderBy(f.col('total_cost'), ascending=False)\n",
        "\n",
        "total_cost_sorted.show(truncate=False)"
      ],
      "metadata": {
        "colab": {
          "base_uri": "https://localhost:8080/"
        },
        "id": "9RGSS8vLruNk",
        "outputId": "2dea571c-3513-4376-aebc-8a7c024cc853"
      },
      "execution_count": 114,
      "outputs": [
        {
          "output_type": "stream",
          "name": "stdout",
          "text": [
            "+-----------+------------------+\n",
            "|customer_id|total_cost        |\n",
            "+-----------+------------------+\n",
            "|4000008    |859.42            |\n",
            "|4000002    |706.97            |\n",
            "|4000007    |699.5500000000001 |\n",
            "|4000001    |651.05            |\n",
            "|4000006    |539.38            |\n",
            "|4000003    |527.5899999999999 |\n",
            "|4000009    |457.83            |\n",
            "|4000010    |447.09000000000003|\n",
            "|4000004    |337.06            |\n",
            "|4000005    |325.15            |\n",
            "+-----------+------------------+\n",
            "\n"
          ]
        }
      ]
    },
    {
      "cell_type": "markdown",
      "source": [
        "## 5. Show ID, Number of Transactions, and Total Cost for Each Customer, Sorted by Customer ID"
      ],
      "metadata": {
        "id": "8y3Bb6O9rzh2"
      }
    },
    {
      "cell_type": "code",
      "source": [
        "customer_stats = transactions.groupBy('customer_id').agg(\n",
        "    f.count('game_type').alias('num_transactions'),\n",
        "    f.sum('amount').alias('total_cost')\n",
        ")\n",
        "\n",
        "customer_stats_sorted = customer_stats.orderBy('customer_id')\n",
        "\n",
        "customer_stats_sorted.show(truncate=False)"
      ],
      "metadata": {
        "colab": {
          "base_uri": "https://localhost:8080/"
        },
        "id": "v-FZ8JwFr4VA",
        "outputId": "d21e9ae2-7ab3-4634-8fa7-e2e6671b1d80"
      },
      "execution_count": 115,
      "outputs": [
        {
          "output_type": "stream",
          "name": "stdout",
          "text": [
            "+-----------+----------------+------------------+\n",
            "|customer_id|num_transactions|total_cost        |\n",
            "+-----------+----------------+------------------+\n",
            "|4000001    |8               |651.05            |\n",
            "|4000002    |6               |706.97            |\n",
            "|4000003    |3               |527.5899999999999 |\n",
            "|4000004    |5               |337.06            |\n",
            "|4000005    |5               |325.15            |\n",
            "|4000006    |5               |539.38            |\n",
            "|4000007    |6               |699.5500000000001 |\n",
            "|4000008    |10              |859.42            |\n",
            "|4000009    |6               |457.83            |\n",
            "|4000010    |6               |447.09000000000003|\n",
            "+-----------+----------------+------------------+\n",
            "\n"
          ]
        }
      ]
    },
    {
      "cell_type": "markdown",
      "source": [
        "## 6. Show Name, Number of Transactions, and Total Cost for Each Customer, Sorted by Total Cost"
      ],
      "metadata": {
        "id": "v40nWZl5sJHi"
      }
    },
    {
      "cell_type": "code",
      "source": [
        "customer_info = customer_stats.join(customers, on='customer_id')\n",
        "\n",
        "sorted_customer_info = customer_info.orderBy(f.col('total_cost'), ascending=False)\n",
        "\n",
        "sorted_customer_info.select('first_name', 'last_name', 'num_transactions', 'total_cost').show(truncate=False)"
      ],
      "metadata": {
        "colab": {
          "base_uri": "https://localhost:8080/"
        },
        "id": "4b8P4Q9WsNA6",
        "outputId": "160f3e69-13f8-468f-9e05-0c334259bd9e"
      },
      "execution_count": 116,
      "outputs": [
        {
          "output_type": "stream",
          "name": "stdout",
          "text": [
            "+----------+----------+----------------+------------------+\n",
            "|first_name|last_name |num_transactions|total_cost        |\n",
            "+----------+----------+----------------+------------------+\n",
            "|Hazel     |Bender    |10              |859.42            |\n",
            "|Paige     |Chen      |6               |706.97            |\n",
            "|Elsie     |Hamilton  |6               |699.5500000000001 |\n",
            "|Kristina  |Chung     |8               |651.05            |\n",
            "|Patrick   |Song      |5               |539.38            |\n",
            "|Sherri    |Melton    |3               |527.5899999999999 |\n",
            "|Malcolm   |Wagner    |6               |457.83            |\n",
            "|Dolores   |McLaughlin|6               |447.09000000000003|\n",
            "|Gretchen  |Hill      |5               |337.06            |\n",
            "|Karen     |Puckett   |5               |325.15            |\n",
            "+----------+----------+----------------+------------------+\n",
            "\n"
          ]
        }
      ]
    },
    {
      "cell_type": "markdown",
      "source": [
        "## 7. Show ID, Name, Game Types Played by Each Customer"
      ],
      "metadata": {
        "id": "CqSWWyHUsQxV"
      }
    },
    {
      "cell_type": "code",
      "source": [
        "customer_game_types = transactions.join(customers, on='customer_id') \\\n",
        "    .groupBy('customer_id', 'first_name', 'last_name') \\\n",
        "    .agg(f.collect_set('game_type').alias('game_types'))\n",
        "\n",
        "\n",
        "customer_game_types.show(truncate=False)"
      ],
      "metadata": {
        "colab": {
          "base_uri": "https://localhost:8080/"
        },
        "id": "GhB1EPHXsT2O",
        "outputId": "c4972912-d854-445a-9e52-5e598a58f7c9"
      },
      "execution_count": 117,
      "outputs": [
        {
          "output_type": "stream",
          "name": "stdout",
          "text": [
            "+-----------+----------+----------+------------------------------------------------------------------------------------------------+\n",
            "|customer_id|first_name|last_name |game_types                                                                                      |\n",
            "+-----------+----------+----------+------------------------------------------------------------------------------------------------+\n",
            "|4000002    |Paige     |Chen      |[Team Sports, Water Sports, Outdoor Recreation, Exercise & Fitness]                             |\n",
            "|4000001    |Kristina  |Chung     |[Combat Sports, Water Sports, Outdoor Recreation, Gymnastics, Winter Sports, Exercise & Fitness]|\n",
            "|4000008    |Hazel     |Bender    |[Team Sports, Water Sports, Outdoor Recreation, Games, Outdoor Play Equipment]                  |\n",
            "|4000005    |Karen     |Puckett   |[Puzzles, Team Sports, Air Sports, Exercise & Fitness, Outdoor Play Equipment]                  |\n",
            "|4000007    |Elsie     |Hamilton  |[Team Sports, Outdoor Recreation, Exercise & Fitness]                                           |\n",
            "|4000004    |Gretchen  |Hill      |[Water Sports, Indoor Games, Outdoor Recreation]                                                |\n",
            "|4000003    |Sherri    |Melton    |[Water Sports, Outdoor Recreation, Gymnastics]                                                  |\n",
            "|4000010    |Dolores   |McLaughlin|[Team Sports, Jumping, Gymnastics, Games, Exercise & Fitness]                                   |\n",
            "|4000006    |Patrick   |Song      |[Water Sports, Jumping, Winter Sports, Outdoor Play Equipment]                                  |\n",
            "|4000009    |Malcolm   |Wagner    |[Combat Sports, Water Sports, Indoor Games, Gymnastics, Outdoor Play Equipment]                 |\n",
            "+-----------+----------+----------+------------------------------------------------------------------------------------------------+\n",
            "\n"
          ]
        }
      ]
    },
    {
      "cell_type": "markdown",
      "source": [
        "## 8. Show ID, Name, Game Types of All Players Who Play 5 or More Game Types"
      ],
      "metadata": {
        "id": "3f_rsc0MsY9m"
      }
    },
    {
      "cell_type": "code",
      "source": [
        "players_with_5_or_more_games = customer_game_types.filter(f.size(f.col('game_types')) >= 5)\n",
        "\n",
        "players_with_5_or_more_games.show(truncate=False)"
      ],
      "metadata": {
        "colab": {
          "base_uri": "https://localhost:8080/"
        },
        "id": "4VWbA9rQsaux",
        "outputId": "f7d0bb43-95eb-49d7-9c27-e05a1cc523a0"
      },
      "execution_count": 118,
      "outputs": [
        {
          "output_type": "stream",
          "name": "stdout",
          "text": [
            "+-----------+----------+----------+------------------------------------------------------------------------------------------------+\n",
            "|customer_id|first_name|last_name |game_types                                                                                      |\n",
            "+-----------+----------+----------+------------------------------------------------------------------------------------------------+\n",
            "|4000001    |Kristina  |Chung     |[Combat Sports, Water Sports, Outdoor Recreation, Gymnastics, Winter Sports, Exercise & Fitness]|\n",
            "|4000008    |Hazel     |Bender    |[Team Sports, Water Sports, Outdoor Recreation, Games, Outdoor Play Equipment]                  |\n",
            "|4000005    |Karen     |Puckett   |[Puzzles, Team Sports, Air Sports, Exercise & Fitness, Outdoor Play Equipment]                  |\n",
            "|4000010    |Dolores   |McLaughlin|[Team Sports, Jumping, Gymnastics, Games, Exercise & Fitness]                                   |\n",
            "|4000009    |Malcolm   |Wagner    |[Combat Sports, Water Sports, Indoor Games, Gymnastics, Outdoor Play Equipment]                 |\n",
            "+-----------+----------+----------+------------------------------------------------------------------------------------------------+\n",
            "\n"
          ]
        }
      ]
    },
    {
      "cell_type": "markdown",
      "source": [
        "## 9. Show Name of All Distinct Players of Each Game Type"
      ],
      "metadata": {
        "id": "Evkpw_jNsd52"
      }
    },
    {
      "cell_type": "code",
      "source": [
        "distinct_players_by_game = transactions.join(customers, on='customer_id') \\\n",
        "    .groupBy('game_type') \\\n",
        "    .agg(f.collect_set('first_name').alias('players'))\n",
        "\n",
        "\n",
        "distinct_players_by_game.show(truncate=False)"
      ],
      "metadata": {
        "colab": {
          "base_uri": "https://localhost:8080/"
        },
        "id": "1eq-SW0xshkp",
        "outputId": "8107451f-7453-421c-c44e-403813139519"
      },
      "execution_count": 119,
      "outputs": [
        {
          "output_type": "stream",
          "name": "stdout",
          "text": [
            "+----------------------+------------------------------------------------------------+\n",
            "|game_type             |players                                                     |\n",
            "+----------------------+------------------------------------------------------------+\n",
            "|Gymnastics            |[Kristina, Dolores, Sherri, Malcolm]                        |\n",
            "|Winter Sports         |[Kristina, Patrick]                                         |\n",
            "|Jumping               |[Dolores, Patrick]                                          |\n",
            "|Team Sports           |[Hazel, Elsie, Paige, Dolores, Karen]                       |\n",
            "|Air Sports            |[Karen]                                                     |\n",
            "|Indoor Games          |[Gretchen, Malcolm]                                         |\n",
            "|Games                 |[Hazel, Dolores]                                            |\n",
            "|Outdoor Play Equipment|[Hazel, Karen, Patrick, Malcolm]                            |\n",
            "|Water Sports          |[Kristina, Hazel, Paige, Sherri, Gretchen, Malcolm, Patrick]|\n",
            "|Puzzles               |[Karen]                                                     |\n",
            "|Outdoor Recreation    |[Kristina, Elsie, Hazel, Paige, Sherri, Gretchen]           |\n",
            "|Combat Sports         |[Kristina, Malcolm]                                         |\n",
            "|Exercise & Fitness    |[Kristina, Elsie, Paige, Dolores, Karen]                    |\n",
            "+----------------------+------------------------------------------------------------+\n",
            "\n"
          ]
        }
      ]
    },
    {
      "cell_type": "markdown",
      "source": [
        "## 10. Show All Game Types Which Don’t Have Players Under 40"
      ],
      "metadata": {
        "id": "AU7eHZ2Tskbr"
      }
    },
    {
      "cell_type": "code",
      "source": [
        "players_above_40 = transactions.join(customers, on='customer_id') \\\n",
        "    .filter(f.col('age') >= 40)\n",
        "\n",
        "game_types_without_players_under_40 = players_above_40.groupBy('game_type').agg(f.collect_set('first_name').alias('players'))\n",
        "\n",
        "game_types_without_players_under_40.show(truncate=False)\n"
      ],
      "metadata": {
        "colab": {
          "base_uri": "https://localhost:8080/"
        },
        "id": "lXrQZnqDsnVe",
        "outputId": "2cf483a6-0c0d-4e2a-a654-f8296308c7e6"
      },
      "execution_count": 120,
      "outputs": [
        {
          "output_type": "stream",
          "name": "stdout",
          "text": [
            "+----------------------+-------------------------------------------+\n",
            "|game_type             |players                                    |\n",
            "+----------------------+-------------------------------------------+\n",
            "|Gymnastics            |[Kristina, Dolores]                        |\n",
            "|Winter Sports         |[Kristina, Patrick]                        |\n",
            "|Jumping               |[Dolores, Patrick]                         |\n",
            "|Team Sports           |[Hazel, Elsie, Paige, Dolores, Karen]      |\n",
            "|Air Sports            |[Karen]                                    |\n",
            "|Indoor Games          |[Gretchen]                                 |\n",
            "|Games                 |[Hazel, Dolores]                           |\n",
            "|Outdoor Play Equipment|[Hazel, Karen, Patrick]                    |\n",
            "|Water Sports          |[Kristina, Hazel, Paige, Gretchen, Patrick]|\n",
            "|Puzzles               |[Karen]                                    |\n",
            "|Outdoor Recreation    |[Kristina, Elsie, Hazel, Paige, Gretchen]  |\n",
            "|Combat Sports         |[Kristina]                                 |\n",
            "|Exercise & Fitness    |[Kristina, Elsie, Paige, Dolores, Karen]   |\n",
            "+----------------------+-------------------------------------------+\n",
            "\n"
          ]
        }
      ]
    },
    {
      "cell_type": "markdown",
      "source": [
        "## 11. Show Min, Max, Average Age of Players of All Game Types"
      ],
      "metadata": {
        "id": "UXZxn2UnsrSs"
      }
    },
    {
      "cell_type": "code",
      "source": [
        "age_stats_per_game_type = transactions.join(customers, on='customer_id') \\\n",
        "    .groupBy('game_type') \\\n",
        "    .agg(\n",
        "        f.min('age').alias('min_age'),\n",
        "        f.max('age').alias('max_age'),\n",
        "        f.avg('age').alias('avg_age')\n",
        "    )\n",
        "\n",
        "age_stats_per_game_type.show(truncate=False)"
      ],
      "metadata": {
        "colab": {
          "base_uri": "https://localhost:8080/"
        },
        "id": "4XCsHHQ7stoW",
        "outputId": "84d37f58-c713-40c6-f164-f5eec2f87a01"
      },
      "execution_count": 121,
      "outputs": [
        {
          "output_type": "stream",
          "name": "stdout",
          "text": [
            "+----------------------+-------+-------+------------------+\n",
            "|game_type             |min_age|max_age|avg_age           |\n",
            "+----------------------+-------+-------+------------------+\n",
            "|Gymnastics            |34     |60     |47.0              |\n",
            "|Winter Sports         |42     |55     |48.5              |\n",
            "|Jumping               |42     |60     |54.0              |\n",
            "|Team Sports           |43     |74     |62.875            |\n",
            "|Air Sports            |74     |74     |74.0              |\n",
            "|Indoor Games          |39     |66     |48.0              |\n",
            "|Games                 |60     |63     |62.0              |\n",
            "|Outdoor Play Equipment|39     |74     |52.0              |\n",
            "|Water Sports          |34     |74     |57.36363636363637 |\n",
            "|Puzzles               |74     |74     |74.0              |\n",
            "|Outdoor Recreation    |34     |74     |53.0              |\n",
            "|Combat Sports         |39     |55     |47.0              |\n",
            "|Exercise & Fitness    |43     |74     |62.142857142857146|\n",
            "+----------------------+-------+-------+------------------+\n",
            "\n"
          ]
        }
      ]
    }
  ]
}